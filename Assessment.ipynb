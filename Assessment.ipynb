{
 "cells": [
  {
   "cell_type": "code",
   "execution_count": 1,
   "metadata": {},
   "outputs": [],
   "source": [
    "import pandas as pd\n",
    "import numpy as np\n",
    "from pathlib import Path\n",
    "%matplotlib inline"
   ]
  },
  {
   "cell_type": "markdown",
   "metadata": {},
   "source": [
    "## **1. Create a class to standardardize (subtract the mean and divide by standard deviation) an input padas dataframe**"
   ]
  },
  {
   "cell_type": "code",
   "execution_count": 2,
   "metadata": {},
   "outputs": [
    {
     "data": {
      "text/html": [
       "<div>\n",
       "<style scoped>\n",
       "    .dataframe tbody tr th:only-of-type {\n",
       "        vertical-align: middle;\n",
       "    }\n",
       "\n",
       "    .dataframe tbody tr th {\n",
       "        vertical-align: top;\n",
       "    }\n",
       "\n",
       "    .dataframe thead th {\n",
       "        text-align: right;\n",
       "    }\n",
       "</style>\n",
       "<table border=\"1\" class=\"dataframe\">\n",
       "  <thead>\n",
       "    <tr style=\"text-align: right;\">\n",
       "      <th></th>\n",
       "      <th>AAPL</th>\n",
       "      <th>MSFT</th>\n",
       "      <th>GOOG</th>\n",
       "      <th>FB</th>\n",
       "      <th>AMZN</th>\n",
       "    </tr>\n",
       "    <tr>\n",
       "      <th>Date</th>\n",
       "      <th></th>\n",
       "      <th></th>\n",
       "      <th></th>\n",
       "      <th></th>\n",
       "      <th></th>\n",
       "    </tr>\n",
       "  </thead>\n",
       "  <tbody>\n",
       "    <tr>\n",
       "      <th>2018-01-02</th>\n",
       "      <td>168.339050</td>\n",
       "      <td>84.128128</td>\n",
       "      <td>1065.000000</td>\n",
       "      <td>181.419998</td>\n",
       "      <td>1189.010010</td>\n",
       "    </tr>\n",
       "    <tr>\n",
       "      <th>2018-01-03</th>\n",
       "      <td>168.309738</td>\n",
       "      <td>84.519646</td>\n",
       "      <td>1082.479980</td>\n",
       "      <td>184.669998</td>\n",
       "      <td>1204.199951</td>\n",
       "    </tr>\n",
       "    <tr>\n",
       "      <th>2018-01-04</th>\n",
       "      <td>169.091522</td>\n",
       "      <td>85.263542</td>\n",
       "      <td>1086.400024</td>\n",
       "      <td>184.330002</td>\n",
       "      <td>1209.589966</td>\n",
       "    </tr>\n",
       "    <tr>\n",
       "      <th>2018-01-05</th>\n",
       "      <td>171.016678</td>\n",
       "      <td>86.320648</td>\n",
       "      <td>1102.229980</td>\n",
       "      <td>186.850006</td>\n",
       "      <td>1229.140015</td>\n",
       "    </tr>\n",
       "    <tr>\n",
       "      <th>2018-01-08</th>\n",
       "      <td>170.381485</td>\n",
       "      <td>86.408737</td>\n",
       "      <td>1106.939941</td>\n",
       "      <td>188.279999</td>\n",
       "      <td>1246.869995</td>\n",
       "    </tr>\n",
       "  </tbody>\n",
       "</table>\n",
       "</div>"
      ],
      "text/plain": [
       "                  AAPL       MSFT         GOOG          FB         AMZN\n",
       "Date                                                                   \n",
       "2018-01-02  168.339050  84.128128  1065.000000  181.419998  1189.010010\n",
       "2018-01-03  168.309738  84.519646  1082.479980  184.669998  1204.199951\n",
       "2018-01-04  169.091522  85.263542  1086.400024  184.330002  1209.589966\n",
       "2018-01-05  171.016678  86.320648  1102.229980  186.850006  1229.140015\n",
       "2018-01-08  170.381485  86.408737  1106.939941  188.279999  1246.869995"
      ]
     },
     "execution_count": 2,
     "metadata": {},
     "output_type": "execute_result"
    }
   ],
   "source": [
    "file_path = Path(\"stocks_closing_value_2018.csv\")\n",
    "tech_stocks = pd.read_csv(file_path, index_col='Date', parse_dates=True)\n",
    "tech_stocks.head()"
   ]
  },
  {
   "cell_type": "code",
   "execution_count": 3,
   "metadata": {},
   "outputs": [
    {
     "data": {
      "text/html": [
       "<div>\n",
       "<style scoped>\n",
       "    .dataframe tbody tr th:only-of-type {\n",
       "        vertical-align: middle;\n",
       "    }\n",
       "\n",
       "    .dataframe tbody tr th {\n",
       "        vertical-align: top;\n",
       "    }\n",
       "\n",
       "    .dataframe thead th {\n",
       "        text-align: right;\n",
       "    }\n",
       "</style>\n",
       "<table border=\"1\" class=\"dataframe\">\n",
       "  <thead>\n",
       "    <tr style=\"text-align: right;\">\n",
       "      <th></th>\n",
       "      <th>AAPL</th>\n",
       "      <th>MSFT</th>\n",
       "      <th>GOOG</th>\n",
       "      <th>FB</th>\n",
       "      <th>AMZN</th>\n",
       "    </tr>\n",
       "    <tr>\n",
       "      <th>Date</th>\n",
       "      <th></th>\n",
       "      <th></th>\n",
       "      <th></th>\n",
       "      <th></th>\n",
       "      <th></th>\n",
       "    </tr>\n",
       "  </thead>\n",
       "  <tbody>\n",
       "    <tr>\n",
       "      <th>2018-01-02</th>\n",
       "      <td>168.339050</td>\n",
       "      <td>84.128128</td>\n",
       "      <td>1065.000000</td>\n",
       "      <td>181.419998</td>\n",
       "      <td>1189.010010</td>\n",
       "    </tr>\n",
       "    <tr>\n",
       "      <th>2018-01-03</th>\n",
       "      <td>168.309738</td>\n",
       "      <td>84.519646</td>\n",
       "      <td>1082.479980</td>\n",
       "      <td>184.669998</td>\n",
       "      <td>1204.199951</td>\n",
       "    </tr>\n",
       "    <tr>\n",
       "      <th>2018-01-04</th>\n",
       "      <td>169.091522</td>\n",
       "      <td>85.263542</td>\n",
       "      <td>1086.400024</td>\n",
       "      <td>184.330002</td>\n",
       "      <td>1209.589966</td>\n",
       "    </tr>\n",
       "    <tr>\n",
       "      <th>2018-01-05</th>\n",
       "      <td>171.016678</td>\n",
       "      <td>86.320648</td>\n",
       "      <td>1102.229980</td>\n",
       "      <td>186.850006</td>\n",
       "      <td>1229.140015</td>\n",
       "    </tr>\n",
       "    <tr>\n",
       "      <th>2018-01-08</th>\n",
       "      <td>170.381485</td>\n",
       "      <td>86.408737</td>\n",
       "      <td>1106.939941</td>\n",
       "      <td>188.279999</td>\n",
       "      <td>1246.869995</td>\n",
       "    </tr>\n",
       "  </tbody>\n",
       "</table>\n",
       "</div>"
      ],
      "text/plain": [
       "                  AAPL       MSFT         GOOG          FB         AMZN\n",
       "Date                                                                   \n",
       "2018-01-02  168.339050  84.128128  1065.000000  181.419998  1189.010010\n",
       "2018-01-03  168.309738  84.519646  1082.479980  184.669998  1204.199951\n",
       "2018-01-04  169.091522  85.263542  1086.400024  184.330002  1209.589966\n",
       "2018-01-05  171.016678  86.320648  1102.229980  186.850006  1229.140015\n",
       "2018-01-08  170.381485  86.408737  1106.939941  188.279999  1246.869995"
      ]
     },
     "execution_count": 3,
     "metadata": {},
     "output_type": "execute_result"
    }
   ],
   "source": [
    "df = pd.DataFrame(tech_stocks)\n",
    "df.head()"
   ]
  },
  {
   "cell_type": "code",
   "execution_count": 4,
   "metadata": {},
   "outputs": [
    {
     "data": {
      "text/plain": [
       "AAPL     186.268993\n",
       "MSFT      99.803780\n",
       "GOOG    1113.225134\n",
       "FB       171.510956\n",
       "AMZN    1641.726176\n",
       "dtype: float64"
      ]
     },
     "execution_count": 4,
     "metadata": {},
     "output_type": "execute_result"
    }
   ],
   "source": [
    "# calculating mean of each stocks\n",
    "mean_value = pd.DataFrame.mean(df)\n",
    "mean_value"
   ]
  },
  {
   "cell_type": "code",
   "execution_count": 5,
   "metadata": {},
   "outputs": [
    {
     "data": {
      "text/plain": [
       "AAPL     20.712947\n",
       "MSFT      8.231386\n",
       "GOOG     67.315548\n",
       "FB       19.977452\n",
       "AMZN    197.275076\n",
       "dtype: float64"
      ]
     },
     "execution_count": 5,
     "metadata": {},
     "output_type": "execute_result"
    }
   ],
   "source": [
    "# Calculating Standard Deviation \n",
    "std_dev = pd.DataFrame.std(df)\n",
    "std_dev"
   ]
  },
  {
   "cell_type": "code",
   "execution_count": 6,
   "metadata": {},
   "outputs": [
    {
     "data": {
      "text/html": [
       "<div>\n",
       "<style scoped>\n",
       "    .dataframe tbody tr th:only-of-type {\n",
       "        vertical-align: middle;\n",
       "    }\n",
       "\n",
       "    .dataframe tbody tr th {\n",
       "        vertical-align: top;\n",
       "    }\n",
       "\n",
       "    .dataframe thead th {\n",
       "        text-align: right;\n",
       "    }\n",
       "</style>\n",
       "<table border=\"1\" class=\"dataframe\">\n",
       "  <thead>\n",
       "    <tr style=\"text-align: right;\">\n",
       "      <th></th>\n",
       "      <th>AAPL</th>\n",
       "      <th>MSFT</th>\n",
       "      <th>GOOG</th>\n",
       "      <th>FB</th>\n",
       "      <th>AMZN</th>\n",
       "    </tr>\n",
       "    <tr>\n",
       "      <th>Date</th>\n",
       "      <th></th>\n",
       "      <th></th>\n",
       "      <th></th>\n",
       "      <th></th>\n",
       "      <th></th>\n",
       "    </tr>\n",
       "  </thead>\n",
       "  <tbody>\n",
       "    <tr>\n",
       "      <th>2018-01-02</th>\n",
       "      <td>-17.929943</td>\n",
       "      <td>-15.675651</td>\n",
       "      <td>-48.225134</td>\n",
       "      <td>9.909042</td>\n",
       "      <td>-452.716166</td>\n",
       "    </tr>\n",
       "    <tr>\n",
       "      <th>2018-01-03</th>\n",
       "      <td>-17.959255</td>\n",
       "      <td>-15.284134</td>\n",
       "      <td>-30.745154</td>\n",
       "      <td>13.159042</td>\n",
       "      <td>-437.526225</td>\n",
       "    </tr>\n",
       "    <tr>\n",
       "      <th>2018-01-04</th>\n",
       "      <td>-17.177471</td>\n",
       "      <td>-14.540237</td>\n",
       "      <td>-26.825110</td>\n",
       "      <td>12.819046</td>\n",
       "      <td>-432.136210</td>\n",
       "    </tr>\n",
       "    <tr>\n",
       "      <th>2018-01-05</th>\n",
       "      <td>-15.252315</td>\n",
       "      <td>-13.483131</td>\n",
       "      <td>-10.995154</td>\n",
       "      <td>15.339050</td>\n",
       "      <td>-412.586161</td>\n",
       "    </tr>\n",
       "    <tr>\n",
       "      <th>2018-01-08</th>\n",
       "      <td>-15.887508</td>\n",
       "      <td>-13.395042</td>\n",
       "      <td>-6.285193</td>\n",
       "      <td>16.769043</td>\n",
       "      <td>-394.856181</td>\n",
       "    </tr>\n",
       "  </tbody>\n",
       "</table>\n",
       "</div>"
      ],
      "text/plain": [
       "                 AAPL       MSFT       GOOG         FB        AMZN\n",
       "Date                                                              \n",
       "2018-01-02 -17.929943 -15.675651 -48.225134   9.909042 -452.716166\n",
       "2018-01-03 -17.959255 -15.284134 -30.745154  13.159042 -437.526225\n",
       "2018-01-04 -17.177471 -14.540237 -26.825110  12.819046 -432.136210\n",
       "2018-01-05 -15.252315 -13.483131 -10.995154  15.339050 -412.586161\n",
       "2018-01-08 -15.887508 -13.395042  -6.285193  16.769043 -394.856181"
      ]
     },
     "execution_count": 6,
     "metadata": {},
     "output_type": "execute_result"
    }
   ],
   "source": [
    "#Normalizationing the each data point \n",
    "norm_data = df -df.mean()\n",
    "norm_data.head()"
   ]
  },
  {
   "cell_type": "code",
   "execution_count": 7,
   "metadata": {},
   "outputs": [
    {
     "data": {
      "text/html": [
       "<div>\n",
       "<style scoped>\n",
       "    .dataframe tbody tr th:only-of-type {\n",
       "        vertical-align: middle;\n",
       "    }\n",
       "\n",
       "    .dataframe tbody tr th {\n",
       "        vertical-align: top;\n",
       "    }\n",
       "\n",
       "    .dataframe thead th {\n",
       "        text-align: right;\n",
       "    }\n",
       "</style>\n",
       "<table border=\"1\" class=\"dataframe\">\n",
       "  <thead>\n",
       "    <tr style=\"text-align: right;\">\n",
       "      <th></th>\n",
       "      <th>AAPL</th>\n",
       "      <th>MSFT</th>\n",
       "      <th>GOOG</th>\n",
       "      <th>FB</th>\n",
       "      <th>AMZN</th>\n",
       "    </tr>\n",
       "    <tr>\n",
       "      <th>Date</th>\n",
       "      <th></th>\n",
       "      <th></th>\n",
       "      <th></th>\n",
       "      <th></th>\n",
       "      <th></th>\n",
       "    </tr>\n",
       "  </thead>\n",
       "  <tbody>\n",
       "    <tr>\n",
       "      <th>2018-01-02</th>\n",
       "      <td>-0.865639</td>\n",
       "      <td>-1.904376</td>\n",
       "      <td>-0.716404</td>\n",
       "      <td>0.496011</td>\n",
       "      <td>-2.294847</td>\n",
       "    </tr>\n",
       "    <tr>\n",
       "      <th>2018-01-03</th>\n",
       "      <td>-0.867055</td>\n",
       "      <td>-1.856812</td>\n",
       "      <td>-0.456732</td>\n",
       "      <td>0.658695</td>\n",
       "      <td>-2.217848</td>\n",
       "    </tr>\n",
       "    <tr>\n",
       "      <th>2018-01-04</th>\n",
       "      <td>-0.829311</td>\n",
       "      <td>-1.766438</td>\n",
       "      <td>-0.398498</td>\n",
       "      <td>0.641676</td>\n",
       "      <td>-2.190526</td>\n",
       "    </tr>\n",
       "    <tr>\n",
       "      <th>2018-01-05</th>\n",
       "      <td>-0.736366</td>\n",
       "      <td>-1.638015</td>\n",
       "      <td>-0.163338</td>\n",
       "      <td>0.767818</td>\n",
       "      <td>-2.091426</td>\n",
       "    </tr>\n",
       "    <tr>\n",
       "      <th>2018-01-08</th>\n",
       "      <td>-0.767033</td>\n",
       "      <td>-1.627313</td>\n",
       "      <td>-0.093369</td>\n",
       "      <td>0.839399</td>\n",
       "      <td>-2.001551</td>\n",
       "    </tr>\n",
       "    <tr>\n",
       "      <th>2018-01-09</th>\n",
       "      <td>-0.767976</td>\n",
       "      <td>-1.634447</td>\n",
       "      <td>-0.103470</td>\n",
       "      <td>0.818875</td>\n",
       "      <td>-1.971999</td>\n",
       "    </tr>\n",
       "    <tr>\n",
       "      <th>2018-01-10</th>\n",
       "      <td>-0.769864</td>\n",
       "      <td>-1.682012</td>\n",
       "      <td>-0.157692</td>\n",
       "      <td>0.817374</td>\n",
       "      <td>-1.963736</td>\n",
       "    </tr>\n",
       "    <tr>\n",
       "      <th>2018-01-11</th>\n",
       "      <td>-0.723155</td>\n",
       "      <td>-1.651096</td>\n",
       "      <td>-0.114463</td>\n",
       "      <td>0.813870</td>\n",
       "      <td>-1.850442</td>\n",
       "    </tr>\n",
       "    <tr>\n",
       "      <th>2018-01-12</th>\n",
       "      <td>-0.637760</td>\n",
       "      <td>-1.470349</td>\n",
       "      <td>0.134217</td>\n",
       "      <td>0.393395</td>\n",
       "      <td>-1.705873</td>\n",
       "    </tr>\n",
       "    <tr>\n",
       "      <th>2018-01-16</th>\n",
       "      <td>-0.680221</td>\n",
       "      <td>-1.618989</td>\n",
       "      <td>0.126789</td>\n",
       "      <td>0.344340</td>\n",
       "      <td>-1.707596</td>\n",
       "    </tr>\n",
       "  </tbody>\n",
       "</table>\n",
       "</div>"
      ],
      "text/plain": [
       "                AAPL      MSFT      GOOG        FB      AMZN\n",
       "Date                                                        \n",
       "2018-01-02 -0.865639 -1.904376 -0.716404  0.496011 -2.294847\n",
       "2018-01-03 -0.867055 -1.856812 -0.456732  0.658695 -2.217848\n",
       "2018-01-04 -0.829311 -1.766438 -0.398498  0.641676 -2.190526\n",
       "2018-01-05 -0.736366 -1.638015 -0.163338  0.767818 -2.091426\n",
       "2018-01-08 -0.767033 -1.627313 -0.093369  0.839399 -2.001551\n",
       "2018-01-09 -0.767976 -1.634447 -0.103470  0.818875 -1.971999\n",
       "2018-01-10 -0.769864 -1.682012 -0.157692  0.817374 -1.963736\n",
       "2018-01-11 -0.723155 -1.651096 -0.114463  0.813870 -1.850442\n",
       "2018-01-12 -0.637760 -1.470349  0.134217  0.393395 -1.705873\n",
       "2018-01-16 -0.680221 -1.618989  0.126789  0.344340 -1.707596"
      ]
     },
     "execution_count": 7,
     "metadata": {},
     "output_type": "execute_result"
    }
   ],
   "source": [
    "final_norm = norm_data / std_dev\n",
    "final_norm.head(10)"
   ]
  },
  {
   "cell_type": "markdown",
   "metadata": {},
   "source": [
    "## **a. Implement a fit model**"
   ]
  },
  {
   "cell_type": "markdown",
   "metadata": {},
   "source": [
    "## I am going to create an arrary to demonstrate a fit and transform method"
   ]
  },
  {
   "cell_type": "code",
   "execution_count": 8,
   "metadata": {},
   "outputs": [],
   "source": [
    "# importing SK-learn library which is super handy tool to perfrom fit & transform method\n",
    "\n",
    "from sklearn.preprocessing import StandardScaler\n"
   ]
  },
  {
   "cell_type": "code",
   "execution_count": 9,
   "metadata": {},
   "outputs": [],
   "source": [
    "# Creating an array\n",
    "\n",
    "example = np.array([[1, 2, 3],\n",
    "              [4, 5, 6],\n",
    "              [7, 8, 9]])"
   ]
  },
  {
   "cell_type": "code",
   "execution_count": 10,
   "metadata": {},
   "outputs": [],
   "source": [
    "# Ceating an object\n",
    "\n",
    "standscaler = StandardScaler()"
   ]
  },
  {
   "cell_type": "code",
   "execution_count": 11,
   "metadata": {},
   "outputs": [
    {
     "data": {
      "text/plain": [
       "StandardScaler(copy=True, with_mean=True, with_std=True)"
      ]
     },
     "execution_count": 11,
     "metadata": {},
     "output_type": "execute_result"
    }
   ],
   "source": [
    "#Fitting with a mean value\n",
    "\n",
    "standscaler.fit(example)"
   ]
  },
  {
   "cell_type": "markdown",
   "metadata": {},
   "source": [
    "## **b. Implement a transform method** "
   ]
  },
  {
   "cell_type": "code",
   "execution_count": 12,
   "metadata": {},
   "outputs": [
    {
     "data": {
      "text/plain": [
       "array([[-1.22474487, -1.22474487, -1.22474487],\n",
       "       [ 0.        ,  0.        ,  0.        ],\n",
       "       [ 1.22474487,  1.22474487,  1.22474487]])"
      ]
     },
     "execution_count": 12,
     "metadata": {},
     "output_type": "execute_result"
    }
   ],
   "source": [
    "# Normalizating the data set\n",
    "standscaler.transform(example)"
   ]
  },
  {
   "cell_type": "markdown",
   "metadata": {},
   "source": [
    "## **Implementing Fit and transform model in single function**"
   ]
  },
  {
   "cell_type": "code",
   "execution_count": 13,
   "metadata": {},
   "outputs": [
    {
     "name": "stdout",
     "output_type": "stream",
     "text": [
      "[[-1.22474487 -1.22474487 -1.22474487]\n",
      " [ 0.          0.          0.        ]\n",
      " [ 1.22474487  1.22474487  1.22474487]]\n"
     ]
    }
   ],
   "source": [
    "## We can perform fir and transform in single function as well  \n",
    "\n",
    "x_scaler = standscaler.fit_transform(example)\n",
    "print(x_scaler)"
   ]
  },
  {
   "cell_type": "markdown",
   "metadata": {},
   "source": [
    "## **C. Implement an inverse transform method**"
   ]
  },
  {
   "cell_type": "markdown",
   "metadata": {},
   "source": [
    "## Here, I am creating new array with some random numbers to demonstrate reverse tranformation."
   ]
  },
  {
   "cell_type": "code",
   "execution_count": 14,
   "metadata": {},
   "outputs": [],
   "source": [
    "# Import sklearn library \n",
    "\n",
    "from sklearn import preprocessing\n",
    "StandardScaler = preprocessing.StandardScaler()"
   ]
  },
  {
   "cell_type": "code",
   "execution_count": 15,
   "metadata": {},
   "outputs": [
    {
     "data": {
      "text/plain": [
       "array([[-400,   25, -125],\n",
       "       [-100,   10,  145],\n",
       "       [   0,    0,    0],\n",
       "       [ 100,   78, -108],\n",
       "       [ 400,   15,    1]])"
      ]
     },
     "execution_count": 15,
     "metadata": {},
     "output_type": "execute_result"
    }
   ],
   "source": [
    "example_2 = np.array([[-400, 25, -125],\n",
    "             [-100, 10, 145],\n",
    "             [0, 0, 0],\n",
    "             [100, 78, -108],\n",
    "             [400, 15, 1]])\n",
    "example_2"
   ]
  },
  {
   "cell_type": "code",
   "execution_count": 16,
   "metadata": {},
   "outputs": [
    {
     "name": "stdout",
     "output_type": "stream",
     "text": [
      "[[-1.53392998 -0.0218879  -1.11216386]\n",
      " [-0.38348249 -0.5690854   1.67858189]\n",
      " [ 0.         -0.93388373  0.17984806]\n",
      " [ 0.38348249  1.91154327 -0.93645024]\n",
      " [ 1.53392998 -0.38668623  0.19018415]]\n"
     ]
    }
   ],
   "source": [
    "x_scaler = StandardScaler.fit_transform(example_2)\n",
    "print(x_scaler)"
   ]
  },
  {
   "cell_type": "code",
   "execution_count": 17,
   "metadata": {},
   "outputs": [
    {
     "name": "stdout",
     "output_type": "stream",
     "text": [
      "[[-400.   25. -125.]\n",
      " [-100.   10.  145.]\n",
      " [   0.    0.    0.]\n",
      " [ 100.   78. -108.]\n",
      " [ 400.   15.    1.]]\n"
     ]
    }
   ],
   "source": [
    "x_scaledback = StandardScaler.inverse_transform(x_scaler)\n",
    "print(x_scaledback)"
   ]
  },
  {
   "cell_type": "markdown",
   "metadata": {},
   "source": [
    "##  I didn't quite understand Q.N.2. Maybe above code already answered it. I am not too sure what \"unit test\" means. I guess it referring to a piece of code which can universally apply to different dataset to obtain similar result."
   ]
  },
  {
   "cell_type": "markdown",
   "metadata": {},
   "source": [
    "## **3. Write a function that preprocesses a given string:**\n",
    " "
   ]
  },
  {
   "cell_type": "code",
   "execution_count": 22,
   "metadata": {},
   "outputs": [
    {
     "name": "stderr",
     "output_type": "stream",
     "text": [
      "[nltk_data] Error loading punkt: <urlopen error [Errno 11001]\n",
      "[nltk_data]     getaddrinfo failed>\n"
     ]
    }
   ],
   "source": [
    "# Importing NLP library\n",
    "\n",
    "import nltk \n",
    "nltk.download('punkt')\n",
    "import string \n",
    "import re "
   ]
  },
  {
   "cell_type": "code",
   "execution_count": 23,
   "metadata": {},
   "outputs": [],
   "source": [
    "# Input Text\n",
    "\n",
    "text = \"\"\"\"\n",
    "William Shakespeare was born in Stratford-upon-Avon on April 23, 1564 to his parents Mary Arden and John Shakespeare. Shakespeare was the third child of eight. He was the oldest surviving son, because in the time Shakespeare was born there was a plague going around called the Bubonic Plague. This is also known as Black Death because it killed so many people in the middle ages. It supposedly killed about one out of every seven people. Not very much is known about Shakespeare’s early years in life, the only way historians found about his early life were based on church records, and court settlements. It was thought that Shakespeare got his education at a grammar school called King Edward VI School Stratford-upon-Avon. When Shakespeare was eighteen, he married a woman who was eight years older than him, her name was Anne Hathaway. Together they had three children. The first was a girl named Susanna and then two years later they had twins, one boy name Hamnet and a daughter named Judith. Hamnet died at the age of 11 of unknown causes. After the death of Shakespeare’s only son supposedly Shakespeare was never the same. Historians have no clue what happened in Shakespeare’s life between the years of 1585-1592. Historians call this time of his life the “lost years.” No one is really sure when Shakespeare started writing but they think it was in 1592 when some of his plays were starting to be performed on stage in London.\n",
    "\n",
    "Shakespeare has had a lot of numerous plays and almost all of them were performed in his time. Some of his first works include Richard III and parts of Henry VI. No one really knows when a lot of Shakespeare’s plays were written, but most historians think it was sometime in the early 1590s. Shakespeare has two really famous narrative poems that many people read today, Hamlet and Romeo and Juliet.\n",
    "\n",
    "Hamlet was first printed in 1601 and could possibly be one of Shakespeare’s most famous stories. This story is pretty much about Prince Hamlet planning revenge on Claudius for murdering King Hamlet. When he does kill Claudius he takes over the throne of his father. One of the most famous quotes from the book Hamlet written by Shakespeare is, “To be or not to be that is the question: Whether ’tis nobler in the mind to suffer, the slings and arrows of outrageous fortune, Or to take arms against a sea of troubles and by opposing, end them.” This is Shakespeare’s longest narrative poem, and maybe one of his most tragic, but the story Romeo and Juliet is right up there with Hamlet.\n",
    "\n",
    "Romeo and Juliet is a story that everyone in their life is going to read, especially in high school. If you ask people that have graduated from high school, what book they remember reading. I guarantee you that most of them will mention Romeo and Juliet. That just shows you how powerful Shakespeare’s writings are. The story Romeo and Juliet is about two people who become to love each other but where they come from, they are truly enemies. It is dramatic irony because since they cannot be together, but they love each other so much, they end up killing themselves together. Romeo and Juliet is to me one of his greatest pieces of work. \n",
    "\"\"\""
   ]
  },
  {
   "cell_type": "markdown",
   "metadata": {},
   "source": [
    "## a. Tokenize the text "
   ]
  },
  {
   "cell_type": "code",
   "execution_count": 24,
   "metadata": {},
   "outputs": [
    {
     "name": "stderr",
     "output_type": "stream",
     "text": [
      "[nltk_data] Error loading stopwords: <urlopen error [Errno 11001]\n",
      "[nltk_data]     getaddrinfo failed>\n"
     ]
    }
   ],
   "source": [
    "from nltk.corpus import stopwords\n",
    "nltk.download('stopwords')\n",
    "from nltk.tokenize import word_tokenize"
   ]
  },
  {
   "cell_type": "code",
   "execution_count": 25,
   "metadata": {},
   "outputs": [
    {
     "name": "stdout",
     "output_type": "stream",
     "text": [
      "['``', 'William', 'Shakespeare', 'was', 'born', 'in', 'Stratford-upon-Avon', 'on', 'April', '23', ',', '1564', 'to', 'his', 'parents', 'Mary', 'Arden', 'and', 'John', 'Shakespeare', '.', 'Shakespeare', 'was', 'the', 'third', 'child', 'of', 'eight', '.', 'He', 'was', 'the', 'oldest', 'surviving', 'son', ',', 'because', 'in', 'the', 'time', 'Shakespeare', 'was', 'born', 'there', 'was', 'a', 'plague', 'going', 'around', 'called', 'the', 'Bubonic', 'Plague', '.', 'This', 'is', 'also', 'known', 'as', 'Black', 'Death', 'because', 'it', 'killed', 'so', 'many', 'people', 'in', 'the', 'middle', 'ages', '.', 'It', 'supposedly', 'killed', 'about', 'one', 'out', 'of', 'every', 'seven', 'people', '.', 'Not', 'very', 'much', 'is', 'known', 'about', 'Shakespeare', '’', 's', 'early', 'years', 'in', 'life', ',', 'the', 'only', 'way', 'historians', 'found', 'about', 'his', 'early', 'life', 'were', 'based', 'on', 'church', 'records', ',', 'and', 'court', 'settlements', '.', 'It', 'was', 'thought', 'that', 'Shakespeare', 'got', 'his', 'education', 'at', 'a', 'grammar', 'school', 'called', 'King', 'Edward', 'VI', 'School', 'Stratford-upon-Avon', '.', 'When', 'Shakespeare', 'was', 'eighteen', ',', 'he', 'married', 'a', 'woman', 'who', 'was', 'eight', 'years', 'older', 'than', 'him', ',', 'her', 'name', 'was', 'Anne', 'Hathaway', '.', 'Together', 'they', 'had', 'three', 'children', '.', 'The', 'first', 'was', 'a', 'girl', 'named', 'Susanna', 'and', 'then', 'two', 'years', 'later', 'they', 'had', 'twins', ',', 'one', 'boy', 'name', 'Hamnet', 'and', 'a', 'daughter', 'named', 'Judith', '.', 'Hamnet', 'died', 'at', 'the', 'age', 'of', '11', 'of', 'unknown', 'causes', '.', 'After', 'the', 'death', 'of', 'Shakespeare', '’', 's', 'only', 'son', 'supposedly', 'Shakespeare', 'was', 'never', 'the', 'same', '.', 'Historians', 'have', 'no', 'clue', 'what', 'happened', 'in', 'Shakespeare', '’', 's', 'life', 'between', 'the', 'years', 'of', '1585-1592', '.', 'Historians', 'call', 'this', 'time', 'of', 'his', 'life', 'the', '“', 'lost', 'years.', '”', 'No', 'one', 'is', 'really', 'sure', 'when', 'Shakespeare', 'started', 'writing', 'but', 'they', 'think', 'it', 'was', 'in', '1592', 'when', 'some', 'of', 'his', 'plays', 'were', 'starting', 'to', 'be', 'performed', 'on', 'stage', 'in', 'London', '.', 'Shakespeare', 'has', 'had', 'a', 'lot', 'of', 'numerous', 'plays', 'and', 'almost', 'all', 'of', 'them', 'were', 'performed', 'in', 'his', 'time', '.', 'Some', 'of', 'his', 'first', 'works', 'include', 'Richard', 'III', 'and', 'parts', 'of', 'Henry', 'VI', '.', 'No', 'one', 'really', 'knows', 'when', 'a', 'lot', 'of', 'Shakespeare', '’', 's', 'plays', 'were', 'written', ',', 'but', 'most', 'historians', 'think', 'it', 'was', 'sometime', 'in', 'the', 'early', '1590s', '.', 'Shakespeare', 'has', 'two', 'really', 'famous', 'narrative', 'poems', 'that', 'many', 'people', 'read', 'today', ',', 'Hamlet', 'and', 'Romeo', 'and', 'Juliet', '.', 'Hamlet', 'was', 'first', 'printed', 'in', '1601', 'and', 'could', 'possibly', 'be', 'one', 'of', 'Shakespeare', '’', 's', 'most', 'famous', 'stories', '.', 'This', 'story', 'is', 'pretty', 'much', 'about', 'Prince', 'Hamlet', 'planning', 'revenge', 'on', 'Claudius', 'for', 'murdering', 'King', 'Hamlet', '.', 'When', 'he', 'does', 'kill', 'Claudius', 'he', 'takes', 'over', 'the', 'throne', 'of', 'his', 'father', '.', 'One', 'of', 'the', 'most', 'famous', 'quotes', 'from', 'the', 'book', 'Hamlet', 'written', 'by', 'Shakespeare', 'is', ',', '“', 'To', 'be', 'or', 'not', 'to', 'be', 'that', 'is', 'the', 'question', ':', 'Whether', '’', 'tis', 'nobler', 'in', 'the', 'mind', 'to', 'suffer', ',', 'the', 'slings', 'and', 'arrows', 'of', 'outrageous', 'fortune', ',', 'Or', 'to', 'take', 'arms', 'against', 'a', 'sea', 'of', 'troubles', 'and', 'by', 'opposing', ',', 'end', 'them.', '”', 'This', 'is', 'Shakespeare', '’', 's', 'longest', 'narrative', 'poem', ',', 'and', 'maybe', 'one', 'of', 'his', 'most', 'tragic', ',', 'but', 'the', 'story', 'Romeo', 'and', 'Juliet', 'is', 'right', 'up', 'there', 'with', 'Hamlet', '.', 'Romeo', 'and', 'Juliet', 'is', 'a', 'story', 'that', 'everyone', 'in', 'their', 'life', 'is', 'going', 'to', 'read', ',', 'especially', 'in', 'high', 'school', '.', 'If', 'you', 'ask', 'people', 'that', 'have', 'graduated', 'from', 'high', 'school', ',', 'what', 'book', 'they', 'remember', 'reading', '.', 'I', 'guarantee', 'you', 'that', 'most', 'of', 'them', 'will', 'mention', 'Romeo', 'and', 'Juliet', '.', 'That', 'just', 'shows', 'you', 'how', 'powerful', 'Shakespeare', '’', 's', 'writings', 'are', '.', 'The', 'story', 'Romeo', 'and', 'Juliet', 'is', 'about', 'two', 'people', 'who', 'become', 'to', 'love', 'each', 'other', 'but', 'where', 'they', 'come', 'from', ',', 'they', 'are', 'truly', 'enemies', '.', 'It', 'is', 'dramatic', 'irony', 'because', 'since', 'they', 'can', 'not', 'be', 'together', ',', 'but', 'they', 'love', 'each', 'other', 'so', 'much', ',', 'they', 'end', 'up', 'killing', 'themselves', 'together', '.', 'Romeo', 'and', 'Juliet', 'is', 'to', 'me', 'one', 'of', 'his', 'greatest', 'pieces', 'of', 'work', '.']\n"
     ]
    }
   ],
   "source": [
    "token_list = word_tokenize(text)\n",
    "print(token_list)"
   ]
  },
  {
   "cell_type": "markdown",
   "metadata": {},
   "source": [
    "## b. Remove punctuation from the text "
   ]
  },
  {
   "cell_type": "code",
   "execution_count": 26,
   "metadata": {},
   "outputs": [
    {
     "name": "stdout",
     "output_type": "stream",
     "text": [
      "Token list after removing stop words :  ['William', 'Shakespeare', 'was', 'born', 'in', 'Stratford-upon-Avon', 'on', 'April', '23', '1564', 'to', 'his', 'parents', 'Mary', 'Arden', 'and', 'John', 'Shakespeare', 'Shakespeare', 'was']\n",
      "\n",
      "Total tokens after removing stop words :  564\n"
     ]
    }
   ],
   "source": [
    "token_list1 = list(filter(lambda token: nltk.tokenize.punkt.PunktToken(token).is_non_punct, token_list))\n",
    "print(\"Token list after removing stop words : \", token_list1[:20])\n",
    "print(\"\\nTotal tokens after removing stop words : \", len(token_list1))"
   ]
  },
  {
   "cell_type": "markdown",
   "metadata": {},
   "source": [
    "## c. Remove stopwords from the text "
   ]
  },
  {
   "cell_type": "code",
   "execution_count": 27,
   "metadata": {},
   "outputs": [
    {
     "name": "stdout",
     "output_type": "stream",
     "text": [
      "Token list after removing stop words :  ['William', 'Shakespeare', 'born', 'Stratford-upon-Avon', 'April', '23', '1564', 'parents', 'Mary', 'Arden', 'John', 'Shakespeare', 'Shakespeare', 'third', 'child', 'eight', 'He', 'oldest', 'surviving', 'son']\n",
      "\n",
      "Total tokens after removing stop words :  311\n"
     ]
    }
   ],
   "source": [
    "token_list2 = list(filter(lambda token: token not in stopwords.words('english'), token_list1))\n",
    "print(\"Token list after removing stop words : \", token_list2[:20])\n",
    "print(\"\\nTotal tokens after removing stop words : \", len(token_list2))"
   ]
  },
  {
   "cell_type": "markdown",
   "metadata": {},
   "source": [
    "## d. Lemmatize the text"
   ]
  },
  {
   "cell_type": "code",
   "execution_count": 28,
   "metadata": {},
   "outputs": [
    {
     "name": "stdout",
     "output_type": "stream",
     "text": [
      "Token list after Lemmatization :  ['William', 'Shakespeare', 'born', 'Stratford-upon-Avon', 'April', '23', '1564', 'parent', 'Mary', 'Arden', 'John', 'Shakespeare', 'Shakespeare', 'third', 'child', 'eight', 'He', 'oldest', 'surviving', 'son']\n",
      "\n",
      "Total tokens after Lemmatization :  311\n"
     ]
    }
   ],
   "source": [
    "from nltk.stem import WordNetLemmatizer\n",
    "\n",
    "lemmatizer = WordNetLemmatizer()\n",
    "token_list3 = [lemmatizer.lemmatize(word) for word in token_list2 ]\n",
    "print(\"Token list after Lemmatization : \", token_list3[:20])\n",
    "print(\"\\nTotal tokens after Lemmatization : \", len(token_list3))"
   ]
  },
  {
   "cell_type": "markdown",
   "metadata": {},
   "source": [
    "## e. Return processed text"
   ]
  },
  {
   "cell_type": "code",
   "execution_count": 29,
   "metadata": {},
   "outputs": [
    {
     "data": {
      "text/plain": [
       "\"['William', 'Shakespeare', 'born', 'Stratford-upon-Avon', 'April', '23', '1564', 'parent', 'Mary', 'Arden', 'John', 'Shakespeare', 'Shakespeare', 'third', 'child', 'eight', 'He', 'oldest', 'surviving', 'son', 'time', 'Shakespeare', 'born', 'plague', 'going', 'around', 'called', 'Bubonic', 'Plague', 'This', 'also', 'known', 'Black', 'Death', 'killed', 'many', 'people', 'middle', 'age', 'It', 'supposedly', 'killed', 'one', 'every', 'seven', 'people', 'Not', 'much', 'known', 'Shakespeare', 'early', 'year', 'life', 'way', 'historian', 'found', 'early', 'life', 'based', 'church', 'record', 'court', 'settlement', 'It', 'thought', 'Shakespeare', 'got', 'education', 'grammar', 'school', 'called', 'King', 'Edward', 'VI', 'School', 'Stratford-upon-Avon', 'When', 'Shakespeare', 'eighteen', 'married', 'woman', 'eight', 'year', 'older', 'name', 'Anne', 'Hathaway', 'Together', 'three', 'child', 'The', 'first', 'girl', 'named', 'Susanna', 'two', 'year', 'later', 'twin', 'one', 'boy', 'name', 'Hamnet', 'daughter', 'named', 'Judith', 'Hamnet', 'died', 'age', '11', 'unknown', 'cause', 'After', 'death', 'Shakespeare', 'son', 'supposedly', 'Shakespeare', 'never', 'Historians', 'clue', 'happened', 'Shakespeare', 'life', 'year', '1585-1592', 'Historians', 'call', 'time', 'life', 'lost', 'years.', 'No', 'one', 'really', 'sure', 'Shakespeare', 'started', 'writing', 'think', '1592', 'play', 'starting', 'performed', 'stage', 'London', 'Shakespeare', 'lot', 'numerous', 'play', 'almost', 'performed', 'time', 'Some', 'first', 'work', 'include', 'Richard', 'III', 'part', 'Henry', 'VI', 'No', 'one', 'really', 'know', 'lot', 'Shakespeare', 'play', 'written', 'historian', 'think', 'sometime', 'early', '1590s', 'Shakespeare', 'two', 'really', 'famous', 'narrative', 'poem', 'many', 'people', 'read', 'today', 'Hamlet', 'Romeo', 'Juliet', 'Hamlet', 'first', 'printed', '1601', 'could', 'possibly', 'one', 'Shakespeare', 'famous', 'story', 'This', 'story', 'pretty', 'much', 'Prince', 'Hamlet', 'planning', 'revenge', 'Claudius', 'murdering', 'King', 'Hamlet', 'When', 'kill', 'Claudius', 'take', 'throne', 'father', 'One', 'famous', 'quote', 'book', 'Hamlet', 'written', 'Shakespeare', 'To', 'question', 'Whether', 'ti', 'nobler', 'mind', 'suffer', 'sling', 'arrow', 'outrageous', 'fortune', 'Or', 'take', 'arm', 'sea', 'trouble', 'opposing', 'end', 'them.', 'This', 'Shakespeare', 'longest', 'narrative', 'poem', 'maybe', 'one', 'tragic', 'story', 'Romeo', 'Juliet', 'right', 'Hamlet', 'Romeo', 'Juliet', 'story', 'everyone', 'life', 'going', 'read', 'especially', 'high', 'school', 'If', 'ask', 'people', 'graduated', 'high', 'school', 'book', 'remember', 'reading', 'I', 'guarantee', 'mention', 'Romeo', 'Juliet', 'That', 'show', 'powerful', 'Shakespeare', 'writing', 'The', 'story', 'Romeo', 'Juliet', 'two', 'people', 'become', 'love', 'come', 'truly', 'enemy', 'It', 'dramatic', 'irony', 'since', 'together', 'love', 'much', 'end', 'killing', 'together', 'Romeo', 'Juliet', 'one', 'greatest', 'piece', 'work']\""
      ]
     },
     "execution_count": 29,
     "metadata": {},
     "output_type": "execute_result"
    }
   ],
   "source": [
    "a = str(token_list3)\n",
    "a"
   ]
  },
  {
   "cell_type": "markdown",
   "metadata": {},
   "source": [
    "## **4. Write a function that takes a list of strings and returns a list of processed string.**"
   ]
  },
  {
   "cell_type": "code",
   "execution_count": null,
   "metadata": {},
   "outputs": [],
   "source": [
    "# Inout Strings\n",
    "\n",
    "string = input()"
   ]
  },
  {
   "cell_type": "code",
   "execution_count": null,
   "metadata": {},
   "outputs": [],
   "source": [
    "# Processing input strings\n",
    "\n",
    "text_tokens = word_tokenize(string)\n",
    "\n",
    "tokens_without_sw = [word for word in text_tokens if not word in stopwords.words()]\n",
    "\n",
    "text = [lemmatizer.lemmatize(word) for word in tokens_without_sw ]\n",
    "text"
   ]
  },
  {
   "cell_type": "markdown",
   "metadata": {},
   "source": [
    "### 5. I understand the concept and purpose of unit test, but I am having some difficulties to apply in above NLP program. And I do not want to take more time to submit this assessment."
   ]
  },
  {
   "cell_type": "code",
   "execution_count": null,
   "metadata": {},
   "outputs": [],
   "source": []
  }
 ],
 "metadata": {
  "kernelspec": {
   "display_name": "Python 3",
   "language": "python",
   "name": "python3"
  },
  "language_info": {
   "codemirror_mode": {
    "name": "ipython",
    "version": 3
   },
   "file_extension": ".py",
   "mimetype": "text/x-python",
   "name": "python",
   "nbconvert_exporter": "python",
   "pygments_lexer": "ipython3",
   "version": "3.7.6"
  }
 },
 "nbformat": 4,
 "nbformat_minor": 4
}
